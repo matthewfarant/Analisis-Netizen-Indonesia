{
  "nbformat": 4,
  "nbformat_minor": 0,
  "metadata": {
    "colab": {
      "name": "Sentiment Analysis Sample.ipynb",
      "provenance": [],
      "authorship_tag": "ABX9TyNNirNyUvY19uyf83csqA6v",
      "include_colab_link": true
    },
    "kernelspec": {
      "name": "python3",
      "display_name": "Python 3"
    },
    "language_info": {
      "name": "python"
    }
  },
  "cells": [
    {
      "cell_type": "markdown",
      "metadata": {
        "id": "view-in-github",
        "colab_type": "text"
      },
      "source": [
        "<a href=\"https://colab.research.google.com/github/matthewfarant/Analisis-Netizen-Indonesia/blob/master/Sentiment_Analysis_Sample.ipynb\" target=\"_parent\"><img src=\"https://colab.research.google.com/assets/colab-badge.svg\" alt=\"Open In Colab\"/></a>"
      ]
    },
    {
      "cell_type": "markdown",
      "metadata": {
        "id": "1w572rTZCToS"
      },
      "source": [
        "## Sentiment Analysis - Twitter Data"
      ]
    },
    {
      "cell_type": "markdown",
      "metadata": {
        "id": "_6S6lopJCdHR"
      },
      "source": [
        "Load training data"
      ]
    },
    {
      "cell_type": "code",
      "metadata": {
        "id": "TSLkE7OM9PR-"
      },
      "source": [
        "import pandas as pd\n",
        "url='https://raw.githubusercontent.com/ridife/dataset-idsa/master/Indonesian%20Sentiment%20Twitter%20Dataset%20Labeled.csv'\n",
        "tweet_data=pd.read_csv(url,sep='\\t')\n",
        "test_data=pd.read_csv('tweets_covid.csv')"
      ],
      "execution_count": 2,
      "outputs": []
    },
    {
      "cell_type": "code",
      "metadata": {
        "colab": {
          "base_uri": "https://localhost:8080/",
          "height": 206
        },
        "id": "jswHngy-_Dyl",
        "outputId": "8c06a945-7570-4f3f-f14e-a5a5997bbdf6"
      },
      "source": [
        "tweet_data.head()"
      ],
      "execution_count": 3,
      "outputs": [
        {
          "output_type": "execute_result",
          "data": {
            "text/html": [
              "<div>\n",
              "<style scoped>\n",
              "    .dataframe tbody tr th:only-of-type {\n",
              "        vertical-align: middle;\n",
              "    }\n",
              "\n",
              "    .dataframe tbody tr th {\n",
              "        vertical-align: top;\n",
              "    }\n",
              "\n",
              "    .dataframe thead th {\n",
              "        text-align: right;\n",
              "    }\n",
              "</style>\n",
              "<table border=\"1\" class=\"dataframe\">\n",
              "  <thead>\n",
              "    <tr style=\"text-align: right;\">\n",
              "      <th></th>\n",
              "      <th>sentimen</th>\n",
              "      <th>Tweet</th>\n",
              "    </tr>\n",
              "  </thead>\n",
              "  <tbody>\n",
              "    <tr>\n",
              "      <th>0</th>\n",
              "      <td>-1</td>\n",
              "      <td>lagu bosan apa yang aku save ni huhuhuhuhuhuhu...</td>\n",
              "    </tr>\n",
              "    <tr>\n",
              "      <th>1</th>\n",
              "      <td>-1</td>\n",
              "      <td>kita lanjutkan saja diam ini hingga kau dan ak...</td>\n",
              "    </tr>\n",
              "    <tr>\n",
              "      <th>2</th>\n",
              "      <td>1</td>\n",
              "      <td>doa rezeki tak putus inna haa zaa larizquna ma...</td>\n",
              "    </tr>\n",
              "    <tr>\n",
              "      <th>3</th>\n",
              "      <td>1</td>\n",
              "      <td>makasih loh ntar kita bagi hasil aku 99 9 sisa...</td>\n",
              "    </tr>\n",
              "    <tr>\n",
              "      <th>4</th>\n",
              "      <td>-1</td>\n",
              "      <td>aku tak faham betul jenis orang malaysia yang ...</td>\n",
              "    </tr>\n",
              "  </tbody>\n",
              "</table>\n",
              "</div>"
            ],
            "text/plain": [
              "   sentimen                                              Tweet\n",
              "0        -1  lagu bosan apa yang aku save ni huhuhuhuhuhuhu...\n",
              "1        -1  kita lanjutkan saja diam ini hingga kau dan ak...\n",
              "2         1  doa rezeki tak putus inna haa zaa larizquna ma...\n",
              "3         1  makasih loh ntar kita bagi hasil aku 99 9 sisa...\n",
              "4        -1  aku tak faham betul jenis orang malaysia yang ..."
            ]
          },
          "metadata": {
            "tags": []
          },
          "execution_count": 3
        }
      ]
    },
    {
      "cell_type": "code",
      "metadata": {
        "colab": {
          "base_uri": "https://localhost:8080/",
          "height": 206
        },
        "id": "llUylCMlVF9S",
        "outputId": "ed8a50a8-4557-42eb-87d5-b2e0cff32cb2"
      },
      "source": [
        "test_data.head()"
      ],
      "execution_count": 4,
      "outputs": [
        {
          "output_type": "execute_result",
          "data": {
            "text/html": [
              "<div>\n",
              "<style scoped>\n",
              "    .dataframe tbody tr th:only-of-type {\n",
              "        vertical-align: middle;\n",
              "    }\n",
              "\n",
              "    .dataframe tbody tr th {\n",
              "        vertical-align: top;\n",
              "    }\n",
              "\n",
              "    .dataframe thead th {\n",
              "        text-align: right;\n",
              "    }\n",
              "</style>\n",
              "<table border=\"1\" class=\"dataframe\">\n",
              "  <thead>\n",
              "    <tr style=\"text-align: right;\">\n",
              "      <th></th>\n",
              "      <th>Text</th>\n",
              "    </tr>\n",
              "  </thead>\n",
              "  <tbody>\n",
              "    <tr>\n",
              "      <th>0</th>\n",
              "      <td>RT @_AmranFans: Alhamdulillah, kedai makan dh ...</td>\n",
              "    </tr>\n",
              "    <tr>\n",
              "      <th>1</th>\n",
              "      <td>Mulai kepikiran tentang konspirasi covid, kena...</td>\n",
              "    </tr>\n",
              "    <tr>\n",
              "      <th>2</th>\n",
              "      <td>RT @kemasnotariza: FYI sekarang itu pemeriksaa...</td>\n",
              "    </tr>\n",
              "    <tr>\n",
              "      <th>3</th>\n",
              "      <td>Anjir takot banget sama covid, dan baru kali i...</td>\n",
              "    </tr>\n",
              "    <tr>\n",
              "      <th>4</th>\n",
              "      <td>Jadi guru juga punya PR. PRnya adalah bagaiman...</td>\n",
              "    </tr>\n",
              "  </tbody>\n",
              "</table>\n",
              "</div>"
            ],
            "text/plain": [
              "                                                Text\n",
              "0  RT @_AmranFans: Alhamdulillah, kedai makan dh ...\n",
              "1  Mulai kepikiran tentang konspirasi covid, kena...\n",
              "2  RT @kemasnotariza: FYI sekarang itu pemeriksaa...\n",
              "3  Anjir takot banget sama covid, dan baru kali i...\n",
              "4  Jadi guru juga punya PR. PRnya adalah bagaiman..."
            ]
          },
          "metadata": {
            "tags": []
          },
          "execution_count": 4
        }
      ]
    },
    {
      "cell_type": "code",
      "metadata": {
        "id": "IIsPMn_f_QMw"
      },
      "source": [
        "X=tweet_data['Tweet']\n",
        "Y=tweet_data['sentimen']"
      ],
      "execution_count": 5,
      "outputs": []
    },
    {
      "cell_type": "markdown",
      "metadata": {
        "id": "DGl6exYtCjjg"
      },
      "source": [
        "Pre-processing"
      ]
    },
    {
      "cell_type": "code",
      "metadata": {
        "id": "XXRqM76Av9Ma"
      },
      "source": [
        "import nltk"
      ],
      "execution_count": 6,
      "outputs": []
    },
    {
      "cell_type": "code",
      "metadata": {
        "colab": {
          "base_uri": "https://localhost:8080/"
        },
        "id": "0L7Mx75yAmxj",
        "outputId": "016d0600-e0cc-4ac4-bee9-40ce55ff0406"
      },
      "source": [
        "from nltk.corpus import stopwords\n",
        "nltk.download('stopwords')"
      ],
      "execution_count": 7,
      "outputs": [
        {
          "output_type": "stream",
          "text": [
            "[nltk_data] Downloading package stopwords to /root/nltk_data...\n",
            "[nltk_data]   Unzipping corpora/stopwords.zip.\n"
          ],
          "name": "stdout"
        },
        {
          "output_type": "execute_result",
          "data": {
            "text/plain": [
              "True"
            ]
          },
          "metadata": {
            "tags": []
          },
          "execution_count": 7
        }
      ]
    },
    {
      "cell_type": "code",
      "metadata": {
        "id": "XgYL2HAQA80_"
      },
      "source": [
        "stop_words=stopwords.words('indonesian')"
      ],
      "execution_count": 8,
      "outputs": []
    },
    {
      "cell_type": "code",
      "metadata": {
        "id": "VT4Jsct4BNVr"
      },
      "source": [
        "import re\n",
        "cleaned_data=[]\n",
        "for i in range(len(X)):\n",
        "   tweet=re.sub('[^a-zA-Z]',' ',X.iloc[i])\n",
        "   tweet=tweet.lower().split()\n",
        "   tweet=[word for word in tweet if(word not in stop_words)]\n",
        "   tweet=' '.join(tweet)\n",
        "   cleaned_data.append(tweet)"
      ],
      "execution_count": 9,
      "outputs": []
    },
    {
      "cell_type": "markdown",
      "metadata": {
        "id": "E5D26DgwCoiA"
      },
      "source": [
        "Bag-of-Words"
      ]
    },
    {
      "cell_type": "code",
      "metadata": {
        "id": "xyIZcApxCHxn"
      },
      "source": [
        "from sklearn.feature_extraction.text import CountVectorizer\n",
        "cv=CountVectorizer(max_features=3000)\n",
        "X_fin=cv.fit_transform(cleaned_data).toarray()"
      ],
      "execution_count": 10,
      "outputs": []
    },
    {
      "cell_type": "code",
      "metadata": {
        "id": "K8CLaiJRVTEl"
      },
      "source": [
        "X_fin_test=cv.fit_transform(test_data['Text']).toarray()"
      ],
      "execution_count": 14,
      "outputs": []
    },
    {
      "cell_type": "markdown",
      "metadata": {
        "id": "IB3GO5QZDLVg"
      },
      "source": [
        "Modelling (naive bayes)"
      ]
    },
    {
      "cell_type": "code",
      "metadata": {
        "id": "LK49PNaxDMjk"
      },
      "source": [
        "from sklearn.naive_bayes import MultinomialNB\n",
        "model=MultinomialNB()"
      ],
      "execution_count": 11,
      "outputs": []
    },
    {
      "cell_type": "code",
      "metadata": {
        "colab": {
          "base_uri": "https://localhost:8080/"
        },
        "id": "0MyAkOsdDN8Y",
        "outputId": "ac06361b-fa8c-41bd-dc86-2762c068041f"
      },
      "source": [
        "from random import seed\n",
        "seed(123)\n",
        "from sklearn.model_selection import train_test_split\n",
        "X_train,X_test,Y_train,Y_test=train_test_split(X_fin,Y,test_size=0.3)\n",
        "model.fit(X_train,Y_train)"
      ],
      "execution_count": 17,
      "outputs": [
        {
          "output_type": "execute_result",
          "data": {
            "text/plain": [
              "MultinomialNB(alpha=1.0, class_prior=None, fit_prior=True)"
            ]
          },
          "metadata": {
            "tags": []
          },
          "execution_count": 17
        }
      ]
    },
    {
      "cell_type": "code",
      "metadata": {
        "colab": {
          "base_uri": "https://localhost:8080/"
        },
        "id": "gdBOUb10DiSb",
        "outputId": "8f9feb94-25b9-4d58-9a60-eb75dab21f6b"
      },
      "source": [
        "Y_pred=model.predict(X_test)\n",
        "from sklearn.metrics import classification_report\n",
        "cf=classification_report(Y_test,Y_pred)\n",
        "print(cf)"
      ],
      "execution_count": null,
      "outputs": [
        {
          "output_type": "stream",
          "text": [
            "              precision    recall  f1-score   support\n",
            "\n",
            "          -1       0.55      0.51      0.53       892\n",
            "           0       0.65      0.71      0.68      1592\n",
            "           1       0.52      0.46      0.49       758\n",
            "\n",
            "    accuracy                           0.60      3242\n",
            "   macro avg       0.57      0.56      0.57      3242\n",
            "weighted avg       0.59      0.60      0.59      3242\n",
            "\n"
          ],
          "name": "stdout"
        }
      ]
    },
    {
      "cell_type": "markdown",
      "metadata": {
        "id": "rDuhZeX1cyZR"
      },
      "source": [
        "Modelling - Naive Bayes (Using 10k Covid Tweets)"
      ]
    },
    {
      "cell_type": "code",
      "metadata": {
        "colab": {
          "base_uri": "https://localhost:8080/"
        },
        "id": "v-zbKd9fVyJv",
        "outputId": "1d16140d-891a-4a17-d28e-8a0bd1f36504"
      },
      "source": [
        "Y_pred=model.predict(X_fin_test)\n",
        "print(Y_pred)"
      ],
      "execution_count": 18,
      "outputs": [
        {
          "output_type": "stream",
          "text": [
            "[1 1 0 ... 0 1 1]\n"
          ],
          "name": "stdout"
        }
      ]
    },
    {
      "cell_type": "code",
      "metadata": {
        "id": "XMu7UYxOV_ZW"
      },
      "source": [
        "data={\n",
        "    'text':test_data['Text'],\n",
        "    'pred':Y_pred\n",
        "}\n",
        "df_fin=pd.DataFrame(data)"
      ],
      "execution_count": 29,
      "outputs": []
    },
    {
      "cell_type": "code",
      "metadata": {
        "id": "QEaZVxLMXCwY"
      },
      "source": [
        "df_fin.to_csv('df_fin.csv')"
      ],
      "execution_count": 30,
      "outputs": []
    },
    {
      "cell_type": "markdown",
      "metadata": {
        "id": "XCv_vKcx0CHr"
      },
      "source": [
        "Modelling (RF and SVM)"
      ]
    },
    {
      "cell_type": "code",
      "metadata": {
        "id": "GeGk-1e55qau"
      },
      "source": [
        "from sklearn.ensemble import RandomForestClassifier\n",
        "from sklearn.svm import SVC"
      ],
      "execution_count": null,
      "outputs": []
    },
    {
      "cell_type": "code",
      "metadata": {
        "id": "a7XhUI4m55ch"
      },
      "source": [
        "clf1=RandomForestClassifier()\n",
        "clf2=SVC()"
      ],
      "execution_count": null,
      "outputs": []
    },
    {
      "cell_type": "code",
      "metadata": {
        "colab": {
          "base_uri": "https://localhost:8080/"
        },
        "id": "_A3bLI7y6Cjg",
        "outputId": "17bf9f23-932d-45ac-857f-e00c7c0d193a"
      },
      "source": [
        "clf1.fit(X_train,Y_train)\n",
        "Y_pred_rf=clf1.predict(X_test)\n",
        "from sklearn.metrics import classification_report\n",
        "print(classification_report(Y_test,Y_pred_rf))"
      ],
      "execution_count": null,
      "outputs": [
        {
          "output_type": "stream",
          "text": [
            "              precision    recall  f1-score   support\n",
            "\n",
            "          -1       0.54      0.45      0.49       892\n",
            "           0       0.62      0.68      0.65      1592\n",
            "           1       0.49      0.49      0.49       758\n",
            "\n",
            "    accuracy                           0.57      3242\n",
            "   macro avg       0.55      0.54      0.54      3242\n",
            "weighted avg       0.57      0.57      0.57      3242\n",
            "\n"
          ],
          "name": "stdout"
        }
      ]
    },
    {
      "cell_type": "code",
      "metadata": {
        "colab": {
          "base_uri": "https://localhost:8080/"
        },
        "id": "fdbdN-u07XdU",
        "outputId": "6b724fd9-3625-44f0-9f9f-2bd0af9981c5"
      },
      "source": [
        "clf2.fit(X_train,Y_train)\n",
        "Y_pred_svm=clf2.predict(X_test)\n",
        "from sklearn.metrics import classification_report\n",
        "print(classification_report(Y_test,Y_pred_svm))"
      ],
      "execution_count": null,
      "outputs": [
        {
          "output_type": "stream",
          "text": [
            "              precision    recall  f1-score   support\n",
            "\n",
            "          -1       0.65      0.30      0.41       892\n",
            "           0       0.57      0.89      0.69      1592\n",
            "           1       0.64      0.28      0.39       758\n",
            "\n",
            "    accuracy                           0.58      3242\n",
            "   macro avg       0.62      0.49      0.50      3242\n",
            "weighted avg       0.61      0.58      0.54      3242\n",
            "\n"
          ],
          "name": "stdout"
        }
      ]
    }
  ]
}